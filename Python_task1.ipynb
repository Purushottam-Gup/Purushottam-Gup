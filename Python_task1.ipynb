{
 "cells": [
  {
   "cell_type": "raw",
   "id": "55785d34-33f0-41ff-b859-87fb7c453413",
   "metadata": {},
   "source": [
    "Pyhton Developer Task_1"
   ]
  },
  {
   "cell_type": "code",
   "execution_count": 12,
   "id": "e9dfa275-d83a-4c6f-8720-eaae11089247",
   "metadata": {},
   "outputs": [
    {
     "name": "stdout",
     "output_type": "stream",
     "text": [
      "Bob\n",
      "21\n",
      "100.45\n"
     ]
    }
   ],
   "source": [
    "# Creating a Variables\n",
    "Name='Bob'\n",
    "Age=21\n",
    "Salary=100.45\n",
    "print(Name)\n",
    "print(Age)\n",
    "print(Salary)"
   ]
  },
  {
   "cell_type": "code",
   "execution_count": 24,
   "id": "66dc6210-44cf-4650-abbb-a0eadce2185d",
   "metadata": {},
   "outputs": [
    {
     "name": "stdout",
     "output_type": "stream",
     "text": [
      "a = 30\n",
      "b = 30\n",
      "c = 30\n",
      "60\n"
     ]
    }
   ],
   "source": [
    "#Assigning Multiple variable\n",
    "a=b=c=30\n",
    "print('a =',a)\n",
    "print('b =',b)\n",
    "print('c =',c)\n",
    "print(a+b)"
   ]
  },
  {
   "cell_type": "code",
   "execution_count": 23,
   "id": "2c3fae20-f63b-4ad6-9fcb-114e353222fa",
   "metadata": {},
   "outputs": [
    {
     "name": "stdout",
     "output_type": "stream",
     "text": [
      "PythonInternship\n"
     ]
    }
   ],
   "source": [
    "# Concenation of strings \n",
    "a='Python'\n",
    "b='Internship'\n",
    "print(a +b)"
   ]
  },
  {
   "cell_type": "code",
   "execution_count": 25,
   "id": "a98ed28e-9aaa-4dcf-ab82-0429f0448529",
   "metadata": {},
   "outputs": [],
   "source": [
    "#Creating a Datatypes\n",
    "X=10 #Numeric\n",
    "Y=10.25 #float\n",
    "A='Jom' #string\n",
    "b=True #Boolean"
   ]
  },
  {
   "cell_type": "code",
   "execution_count": 26,
   "id": "cb1821ed-89a2-4a32-bca4-e05bf79491c4",
   "metadata": {},
   "outputs": [
    {
     "name": "stdout",
     "output_type": "stream",
     "text": [
      "Type of a:  <class 'int'>\n",
      "\n",
      "Type of b:  <class 'float'>\n",
      "\n",
      "Type of c:  <class 'complex'>\n"
     ]
    }
   ],
   "source": [
    "#Numeric data type\n",
    "a = 5\n",
    "print(\"Type of a: \", type(a))\n",
    "b = 5.0\n",
    "print(\"\\nType of b: \", type(b))\n",
    "c = 2 + 4j\n",
    "print(\"\\nType of c: \", type(c))"
   ]
  },
  {
   "cell_type": "code",
   "execution_count": 43,
   "id": "80450c4b-3e0f-483e-bddb-fb55a7b29c5b",
   "metadata": {},
   "outputs": [
    {
     "name": "stdout",
     "output_type": "stream",
     "text": [
      "10.0\n",
      "0.0\n",
      "25.0\n",
      "1.0\n"
     ]
    }
   ],
   "source": [
    "#Arthmetic Operations\n",
    "print(a+b) \n",
    "print(a-b)\n",
    "print(a*b)\n",
    "print(a/b)"
   ]
  },
  {
   "cell_type": "code",
   "execution_count": 32,
   "id": "7e226638-6a9c-4a21-a43a-2dabb8a65a69",
   "metadata": {},
   "outputs": [
    {
     "name": "stdout",
     "output_type": "stream",
     "text": [
      "String with the use of Single Quotes: \n",
      "Welcome to the Geeks World\n",
      "\n",
      "String with the use of Double Quotes: \n",
      "I'm a Geek\n",
      "<class 'str'>\n"
     ]
    },
    {
     "data": {
      "text/plain": [
       "'m'"
      ]
     },
     "execution_count": 32,
     "metadata": {},
     "output_type": "execute_result"
    }
   ],
   "source": [
    "# String Data type \n",
    "String1 = 'Welcome to the Geeks World'\n",
    "print(\"String with the use of Single Quotes: \")\n",
    "print(String1)\n",
    "String2 = \"I'm a Geek\"\n",
    "print(\"\\nString with the use of Double Quotes: \")\n",
    "print(String2)\n",
    "print(type(String1))\n",
    "#Accessing the elements from string \n",
    "String1[5:10]\n",
    "String2[2]"
   ]
  },
  {
   "cell_type": "code",
   "execution_count": 38,
   "id": "51857341-663f-40c7-b8be-ce7a04c39a5b",
   "metadata": {},
   "outputs": [
    {
     "name": "stdout",
     "output_type": "stream",
     "text": [
      "True\n",
      "False\n",
      "<class 'bool'>\n",
      "<class 'bool'>\n"
     ]
    }
   ],
   "source": [
    "#Boolean Data Type \n",
    "A=True\n",
    "print(A)\n",
    "B=False\n",
    "print(B)\n",
    "print(type(A))\n",
    "print(type(B))"
   ]
  },
  {
   "cell_type": "code",
   "execution_count": 50,
   "id": "58ba9d35-3c8b-4c76-812c-88be93e4fbd3",
   "metadata": {},
   "outputs": [
    {
     "name": "stdout",
     "output_type": "stream",
     "text": [
      "['Jupyter', 'Notebook']\n",
      "Jupyter\n",
      "\n",
      "List of numbers: \n",
      "[10, 20, 14]\n"
     ]
    },
    {
     "data": {
      "text/plain": [
       "14"
      ]
     },
     "execution_count": 50,
     "metadata": {},
     "output_type": "execute_result"
    }
   ],
   "source": [
    "#Python Lists\n",
    "var=['Jupyter','Notebook']\n",
    "print(var)\n",
    "#access the elements \n",
    "print(var[0])\n",
    "List = [10, 20, 14]\n",
    "print(\"\\nList of numbers: \")\n",
    "print(List)\n",
    "List[2]"
   ]
  },
  {
   "cell_type": "code",
   "execution_count": 63,
   "id": "cf51c355-3b4f-4f0f-b8ef-6b8d37218156",
   "metadata": {},
   "outputs": [
    {
     "name": "stdout",
     "output_type": "stream",
     "text": [
      "\n",
      "List with the use of Mixed Values: \n",
      "[1, 2, 'Tom', 4, 'And', 6, 'Jerry']\n",
      "Tom\n",
      "6\n",
      "4\n",
      "The length of list is  7\n",
      "[1, 2, 'Bob', 4, 'And', 6, 'Jerry']\n",
      "[1, 2, 'Bob', 4, 'And', 100, 'Jerry']\n"
     ]
    }
   ],
   "source": [
    "#Mixed List\n",
    "List = [1, 2, 'Tom', 4, 'And', 6, 'Jerry']\n",
    "print(\"\\nList with the use of Mixed Values: \")\n",
    "print(List)\n",
    "#access the elements\n",
    "print(List[2])\n",
    "print(List[5])\n",
    "print(List[-4])\n",
    "#length of the List\n",
    "print(\"The length of list is \",len(List))\n",
    "#Adding new element to the list\n",
    "List[2]='Bob'\n",
    "print(List)\n",
    "List[5]=100\n",
    "print(List)"
   ]
  },
  {
   "cell_type": "code",
   "execution_count": 70,
   "id": "4bcaf81a-f478-4f7e-814c-590e9c78f854",
   "metadata": {},
   "outputs": [
    {
     "name": "stdout",
     "output_type": "stream",
     "text": [
      "\n",
      "Tuple with the use of String: \n",
      "('Tom', 'Jerry')\n",
      "\n",
      "Tuple with the use of function: \n",
      "('A', 'k', 'a', 's', 'h')\n"
     ]
    }
   ],
   "source": [
    "#Tuples\n",
    "Tuple1 = ('Tom', 'Jerry')\n",
    "print(\"\\nTuple with the use of String: \")\n",
    "print(Tuple1)\n",
    "Tuple1[0]\n",
    "# with the use of built-in function\n",
    "Tuple1 = tuple('Akash')\n",
    "print(\"\\nTuple with the use of function: \")\n",
    "print(Tuple1)"
   ]
  },
  {
   "cell_type": "code",
   "execution_count": 71,
   "id": "934182d4-fd88-43af-8c9b-c722f39f9dc9",
   "metadata": {},
   "outputs": [
    {
     "name": "stdout",
     "output_type": "stream",
     "text": [
      "Tuple 1: \n",
      "(0, 1, 2, 3)\n",
      "\n",
      "Tuple2: \n",
      "('Tom', 'And', 'Bob')\n",
      "\n",
      "Tuples after Concatenation: \n",
      "(0, 1, 2, 3, 'Tom', 'And', 'Bob')\n"
     ]
    }
   ],
   "source": [
    "Tuple1 = (0, 1, 2, 3)\n",
    "Tuple2 = ('Tom', 'And', 'Bob')\n",
    "\n",
    "Tuple3 = Tuple1 + Tuple2\n",
    "\n",
    "# Printing first Tuple\n",
    "print(\"Tuple 1: \")\n",
    "print(Tuple1)\n",
    "\n",
    "# Printing Second Tuple\n",
    "print(\"\\nTuple2: \")\n",
    "print(Tuple2)\n",
    "\n",
    "# Printing Final Tuple\n",
    "print(\"\\nTuples after Concatenation: \")\n",
    "print(Tuple3)"
   ]
  },
  {
   "cell_type": "code",
   "execution_count": 21,
   "id": "8b0fe24c-9757-46f7-a25c-ab661714162c",
   "metadata": {},
   "outputs": [
    {
     "name": "stdout",
     "output_type": "stream",
     "text": [
      "{1: 'Purushottam', 2: 'Keys', 3: 'Gupta'}\n"
     ]
    },
    {
     "data": {
      "text/plain": [
       "'Gupta'"
      ]
     },
     "execution_count": 21,
     "metadata": {},
     "output_type": "execute_result"
    }
   ],
   "source": [
    "#Loop\n",
    "#Create dictionary\n",
    "Dict = {1: 'Purushottam', 2: 'Keys', 3: 'Gupta'}\n",
    "print(Dict)\n",
    "Dict[1]\n",
    "Dict[3]"
   ]
  },
  {
   "cell_type": "code",
   "execution_count": 22,
   "id": "298f3e67-5839-43e0-9ff8-16967e3ffd39",
   "metadata": {},
   "outputs": [
    {
     "data": {
      "text/plain": [
       "3"
      ]
     },
     "execution_count": 22,
     "metadata": {},
     "output_type": "execute_result"
    }
   ],
   "source": [
    "#length of dictionary\n",
    "len(Dict)"
   ]
  },
  {
   "cell_type": "code",
   "execution_count": 23,
   "id": "1332f5b4-6e21-4875-8f4b-1c253df436e5",
   "metadata": {},
   "outputs": [
    {
     "data": {
      "text/plain": [
       "'Purushottam'"
      ]
     },
     "execution_count": 23,
     "metadata": {},
     "output_type": "execute_result"
    }
   ],
   "source": [
    "#Access the values\n",
    "Dict[1]"
   ]
  }
 ],
 "metadata": {
  "kernelspec": {
   "display_name": "Python 3 (ipykernel)",
   "language": "python",
   "name": "python3"
  },
  "language_info": {
   "codemirror_mode": {
    "name": "ipython",
    "version": 3
   },
   "file_extension": ".py",
   "mimetype": "text/x-python",
   "name": "python",
   "nbconvert_exporter": "python",
   "pygments_lexer": "ipython3",
   "version": "3.12.4"
  }
 },
 "nbformat": 4,
 "nbformat_minor": 5
}
