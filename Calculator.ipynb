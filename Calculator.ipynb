{
 "cells": [
  {
   "cell_type": "code",
   "execution_count": 1,
   "id": "184feacc-275f-4e70-8dd8-e8ef71347777",
   "metadata": {},
   "outputs": [],
   "source": [
    "import tkinter as tk\n",
    "from tkinter import PhotoImage"
   ]
  },
  {
   "cell_type": "code",
   "execution_count": 2,
   "id": "cf49c754-2bf9-4770-a253-15e9cfcf4384",
   "metadata": {},
   "outputs": [],
   "source": [
    "calculation=\"\"\n",
    "def add_to_calculation (symbol):\n",
    "    global calculation\n",
    "    calculation += str(symbol)\n",
    "    text_result.delete(1.0,\"end\")\n",
    "    text_result.insert(1.0,calculation)\n",
    "\n",
    "def evaluate_calculation():\n",
    "     global calculation \n",
    "     print(calculation)\n",
    "     try:\n",
    "        calculation= str(eval(calculation))\n",
    "        text_result.delete(1.0,\"end\")\n",
    "        text_result.insert(1.0, calculation)\n",
    "     except:\n",
    "         clear_field()\n",
    "         text_result.insert(1.0,\"Error\")\n",
    "\n",
    "def clear_field():\n",
    "   global calculation\n",
    "   calculation= \"\"\n",
    "   text_result.delete(1.0,\"end\")"
   ]
  },
  {
   "cell_type": "code",
   "execution_count": 3,
   "id": "28312f4c-2878-42eb-8f0c-6461c2d4b133",
   "metadata": {},
   "outputs": [
    {
     "name": "stdout",
     "output_type": "stream",
     "text": [
      "12+3\n"
     ]
    }
   ],
   "source": [
    "root = tk.Tk()\n",
    "root.geometry(\"300x275\")\n",
    "#root.configure(bg=\"#282C34\")\n",
    "#root.resizable(False, False)\n",
    "text_result= tk.Text(root,height=2,width=16,font=(\"Arial\",24))\n",
    "text_result.grid(columnspan=6)\n",
    "#img = PhotoImage(file=r\"C:/Users/Public/Calculator/Calculator Photo/1.png\")\n",
    "btn_1=tk.Button(root, text=\"1\", command=lambda:add_to_calculation(1),width=5,font =(\"Arial\",14))\n",
    "btn_1.grid(row=2,column=1)\n",
    "btn_2=tk.Button(root, text=\"2\", command=lambda:add_to_calculation(2),width=5,font =(\"Arial\",14))\n",
    "btn_2.grid(row=2,column=2)\n",
    "btn_3=tk.Button(root, text=\"3\", command=lambda:add_to_calculation(3),width=5,font =(\"Arial\",14))\n",
    "btn_3.grid(row=2,column=3)\n",
    "btn_4=tk.Button(root, text=\"4\", command=lambda:add_to_calculation(4),width=5,font =(\"Arial\",14))\n",
    "btn_4.grid(row=3,column=1)\n",
    "btn_5=tk.Button(root, text=\"5\", command=lambda:add_to_calculation(5),width=5,font =(\"Arial\",14))\n",
    "btn_5.grid(row=3,column=2)\n",
    "btn_6=tk.Button(root, text=\"6\", command=lambda:add_to_calculation(6),width=5,font =(\"Arial\",14))\n",
    "btn_6.grid(row=3,column=3)\n",
    "btn_7=tk.Button(root, text=\"7\", command=lambda:add_to_calculation(7),width=5,font =(\"Arial\",14))\n",
    "btn_7.grid(row=4,column=1)\n",
    "btn_8=tk.Button(root, text=\"8\", command=lambda:add_to_calculation(8),width=5,font =(\"Arial\",14))\n",
    "btn_8.grid(row=4,column=2)\n",
    "btn_9=tk.Button(root, text=\"9\", command=lambda:add_to_calculation(9),width=5,font =(\"Arial\",14))\n",
    "btn_9.grid(row=4,column=3)\n",
    "btn_0=tk.Button(root, text=\"0\", command=lambda:add_to_calculation(8),width=5,font =(\"Arial\",14))\n",
    "btn_0.grid(row=5,column=2)\n",
    "btn_plus=tk.Button(root, text=\"+\", command=lambda:add_to_calculation(\"+\"),width=5,font =(\"Arial\",14))\n",
    "btn_plus.grid(row=2,column=4)\n",
    "btn_sub=tk.Button(root, text=\"-\", command=lambda:add_to_calculation(\"-\"),width=5,font =(\"Arial\",14))\n",
    "btn_sub.grid(row=3,column=4)\n",
    "btn_mul=tk.Button(root, text=\"x\", command=lambda:add_to_calculation(\"x\"),width=5,font =(\"Arial\",14))\n",
    "btn_mul.grid(row=4,column=4)\n",
    "btn_div=tk.Button(root, text=\"/\", command=lambda:add_to_calculation(\"/\"),width=5,font =(\"Arial\",14))\n",
    "btn_div.grid(row=5,column=4)\n",
    "btn_open=tk.Button(root, text=\"(\", command=lambda:add_to_calculation(\"(\"),width=5,font =(\"Arial\",14))\n",
    "btn_open.grid(row=5,column=1)\n",
    "btn_close=tk.Button(root, text=\")\", command=lambda:add_to_calculation(\")\"),width=5,font =(\"Arial\",14))\n",
    "btn_close.grid(row=5,column=3)\n",
    "btn_clear=tk.Button(root, text=\"Clear\", command=clear_field ,width=11,font =(\"Arial\",14))\n",
    "btn_clear.grid(row=6,column=1,columnspan=2)\n",
    "btn_equal=tk.Button(root, text=\"=\", command=evaluate_calculation,width=11,font =(\"Arial\",14))\n",
    "btn_equal.grid(row=6,column=3,columnspan=2)\n",
    "root.mainloop()"
   ]
  },
  {
   "cell_type": "code",
   "execution_count": null,
   "id": "fce5bc06-9665-43a5-8cdd-ed9e816cf714",
   "metadata": {},
   "outputs": [],
   "source": [
    " "
   ]
  }
 ],
 "metadata": {
  "kernelspec": {
   "display_name": "Python 3 (ipykernel)",
   "language": "python",
   "name": "python3"
  },
  "language_info": {
   "codemirror_mode": {
    "name": "ipython",
    "version": 3
   },
   "file_extension": ".py",
   "mimetype": "text/x-python",
   "name": "python",
   "nbconvert_exporter": "python",
   "pygments_lexer": "ipython3",
   "version": "3.12.5"
  }
 },
 "nbformat": 4,
 "nbformat_minor": 5
}
